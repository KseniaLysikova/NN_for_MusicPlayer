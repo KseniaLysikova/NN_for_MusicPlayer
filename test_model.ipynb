{
 "cells": [
  {
   "cell_type": "code",
   "execution_count": 15,
   "id": "f6d1a2c0-c569-494b-b930-30e17654ed31",
   "metadata": {},
   "outputs": [],
   "source": [
    "import torch\n",
    "import torchaudio\n",
    "import torch.optim as optim\n",
    "from torch.utils.data import DataLoader, Dataset\n",
    "from model.dataset import AudioDataset\n",
    "from model.train import train\n",
    "from model.model import DynamicNsNet2, loss_fn\n",
    "from model.inference import infer, save_audio\n",
    "from model.eval import dnsmos_score"
   ]
  },
  {
   "cell_type": "code",
   "execution_count": 6,
   "id": "cf5db080-af78-48eb-bb67-5a1805e2c197",
   "metadata": {},
   "outputs": [
    {
     "data": {
      "text/plain": [
       "'cuda'"
      ]
     },
     "execution_count": 6,
     "metadata": {},
     "output_type": "execute_result"
    }
   ],
   "source": [
    "device = 'cuda' if torch.cuda.is_available() else 'cpu'\n",
    "device"
   ]
  },
  {
   "cell_type": "code",
   "execution_count": 7,
   "id": "ab6a2f25-7a87-45d2-b0e5-940fa6b21616",
   "metadata": {},
   "outputs": [],
   "source": [
    "noisy_files_path = \"your_noisy_files_path\"\n",
    "clean_files_path = \"your_clean_files_path\""
   ]
  },
  {
   "cell_type": "code",
   "execution_count": 8,
   "id": "a9e22671-7042-441c-bc90-cca39b921ad0",
   "metadata": {},
   "outputs": [],
   "source": [
    "train_dataset = AudioDataset(noisy_files_path, clean_files_path)\n",
    "train_loader = DataLoader(train_dataset, batch_size=32, shuffle=True)"
   ]
  },
  {
   "cell_type": "code",
   "execution_count": 14,
   "id": "c545eec2-3c5b-489b-bfd6-6d4b66900d79",
   "metadata": {},
   "outputs": [],
   "source": [
    "model = DynamicNsNet2(num_features=257)\n",
    "optimizer = optim.Adam(model.parameters(), lr=1e-4)\n",
    "num_epochs = 5"
   ]
  },
  {
   "cell_type": "code",
   "execution_count": null,
   "id": "b6d32b97-05dc-4ce9-88bb-a61311f214a9",
   "metadata": {},
   "outputs": [],
   "source": [
    "train(model, train_loader, optimizer, loss_fn, device, num_epochs=num_epochs)"
   ]
  },
  {
   "cell_type": "code",
   "execution_count": 16,
   "id": "9c9674d2-659e-4824-a7fc-818a8a6d044c",
   "metadata": {},
   "outputs": [
    {
     "name": "stdout",
     "output_type": "stream",
     "text": [
      "Очищенное аудио сохранено как denoised_audio_test.wav\n"
     ]
    }
   ],
   "source": [
    "file_path = \"your_noisy_file_path\"\n",
    "denoised_audio = infer(model, file_path, device=\"cuda\" if torch.cuda.is_available() else \"cpu\")\n",
    "\n",
    "output_path = \"denoised_audio_test.wav\"\n",
    "torchaudio.save(output_path, denoised_audio.unsqueeze(0).cpu(), sample_rate=16000)\n",
    "print(f\"Очищенное аудио сохранено как {output_path}\")"
   ]
  },
  {
   "cell_type": "code",
   "execution_count": 16,
   "id": "645c4292-f4dd-4476-85f2-a93d16d22832",
   "metadata": {},
   "outputs": [],
   "source": [
    "audio_path = \"denoised_audio_test.wav\"\n",
    "dnsmos_model_path = \"C:\\\\Users\\\\Ksenia\\\\Desktop\\\\train_data\\\\model_v8.onnx\"\n",
    "score = dnsmos_score(audio_path, dnsmos_model_path)"
   ]
  },
  {
   "cell_type": "code",
   "execution_count": 17,
   "id": "9d024721-a91f-412d-9217-da1bfe665152",
   "metadata": {},
   "outputs": [
    {
     "data": {
      "text/plain": [
       "array([[2.299057]], dtype=float32)"
      ]
     },
     "execution_count": 17,
     "metadata": {},
     "output_type": "execute_result"
    }
   ],
   "source": [
    "score"
   ]
  }
 ],
 "metadata": {
  "kernelspec": {
   "display_name": "Python 3 (ipykernel)",
   "language": "python",
   "name": "python3"
  },
  "language_info": {
   "codemirror_mode": {
    "name": "ipython",
    "version": 3
   },
   "file_extension": ".py",
   "mimetype": "text/x-python",
   "name": "python",
   "nbconvert_exporter": "python",
   "pygments_lexer": "ipython3",
   "version": "3.8.19"
  }
 },
 "nbformat": 4,
 "nbformat_minor": 5
}
